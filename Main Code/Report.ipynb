{
 "cells": [
  {
   "cell_type": "code",
   "execution_count": 1,
   "id": "a00fe2fe",
   "metadata": {},
   "outputs": [],
   "source": [
    "import pandas as pd\n",
    "import matplotlib.pyplot as plt\n",
    "import seaborn as sns\n",
    "import psycopg2"
   ]
  },
  {
   "cell_type": "code",
   "execution_count": 24,
   "id": "e96fd0e8",
   "metadata": {},
   "outputs": [],
   "source": [
    "from make_password import password  # Import the password function fromm a seperte file\n",
    "pw = password # insert whatever your database password is here\n",
    "db = \"Statcast\"  # Database name\n",
    "host = \"localhost\"  # Database host\n",
    "user = \"postgres\"  # Database user\n",
    "port = \"5432\"  # Database port\n",
    "\n",
    "def connecting():\n",
    "    #Establish a connection to the PostgreSQL database.\n",
    "\n",
    "    connection = None  # Initialize connection variable\n",
    "    connection = psycopg2.connect(\n",
    "        database=db,\n",
    "        host=host,\n",
    "        user=user,\n",
    "        password=pw,\n",
    "        port=port\n",
    "    )  # Establish connection to the database\n",
    "    return connection  # Return the connection object\n",
    "\n",
    "def execute_query(connection, query):\n",
    " \n",
    "    # Execute a SQL query on the database.\n",
    "    try:\n",
    "        cursor = connection.cursor()  # Create a cursor object\n",
    "        cursor.execute(query)  # Execute the SQL query\n",
    "        connection.commit()  # Commit the transaction\n",
    "    except psycopg2.Error as e:\n",
    "        print(f\"Error executing query: {e}\")  # Print error message\n",
    "        connection.rollback()  # Rollback the transaction in case of error\n",
    "    finally:\n",
    "        cursor.close()  \n",
    "def read_query(connection, query):\n",
    "    \"\"\"\n",
    "    Execute a SQL query and fetch all results. \n",
    "    Returns:\n",
    "        result (list): List of tuples containing the query results.\n",
    "    \"\"\"\n",
    "    cursor = connection.cursor()  # Create a cursor object\n",
    "    result = None  # Initialize result variable\n",
    "    cursor.execute(query)  # Execute the SQL query\n",
    "    result = cursor.fetchall()  # Fetch all results\n",
    "    return result  # Return the query results"
   ]
  },
  {
   "cell_type": "markdown",
   "id": "22cec4d2",
   "metadata": {},
   "source": [
    "What is a Whiff?\n",
    "\n",
    "A whiff in baseball is a very straight forward concept, it's when a batter swings at a pitch and misses. While simple, it is also one of the most important stats in modern baseball. Understanding how and how often pitchers get whiffs is crucial to effectivley evalulate pitchers. A pitcher who is unable to miss bats rarley gets very far in the league. A quick look at the leaderboard for whiffs in 2024 is quite revealing."
   ]
  },
  {
   "cell_type": "code",
   "execution_count": 27,
   "id": "5b894f2e",
   "metadata": {},
   "outputs": [
    {
     "name": "stdout",
     "output_type": "stream",
     "text": [
      "        player_name  whiff_count\n",
      "0      Cease, Dylan          432\n",
      "1      Ragans, Cole          424\n",
      "2     Skubal, Tarik          399\n",
      "3     Rodón, Carlos          395\n",
      "4   Peralta, Freddy          389\n",
      "5    Gilbert, Logan          386\n",
      "6  Crochet, Garrett          373\n",
      "7     Wheeler, Zack          371\n",
      "8      Ober, Bailey          367\n",
      "9       Sale, Chris          367\n"
     ]
    }
   ],
   "source": [
    "# The following code as well as many others in this notebook reference a statcast_2024 database. This was obtained using the pybaseball api and was imported into a postgres database directly in pgadmin4 as the code to do so is quite long and tedious. \n",
    "# All CSVS can be found under the CSV folder on github.\n",
    "\n",
    "get_whiffs = '''SELECT player_name, COUNT(*) as whiff_count\n",
    "FROM statcast_2024 \n",
    "WHERE description = 'swinging_strike'\n",
    "GROUP BY player_name\n",
    "ORDER BY COUNT(*) DESC;'''\n",
    "\n",
    "connection = connecting() \n",
    "execute_query(connection, get_whiffs) \n",
    "whiff_leadder_board = read_query(connection, get_whiffs)\n",
    "whiff_leadder_board = pd.DataFrame(whiff_leadder_board, columns=['player_name', 'whiff_count'])\n",
    "print(whiff_leadder_board.head(10))  # Display the top 10 players with the most whiffs\n",
    "\n"
   ]
  },
  {
   "cell_type": "markdown",
   "id": "497d0318",
   "metadata": {},
   "source": [
    "Those are some pretty good names topping the leaderboard, including both 2024 AL and NL CY Young winners, as well as a host of elite pitchers. It's pretty obvious a high amount of whiffs is genreally the sign of an elite pitcher. But how well do they correlate with a pitchers run prevention ability, which is the baseline job of a pitcher. For this we will look at whiff rate (simply # of whiffs / # of pitchers) for all qualified  starting pitchers from 2024 and compare to their ERA+ (in order to take park factors into account).\n"
   ]
  }
 ],
 "metadata": {
  "kernelspec": {
   "display_name": "base",
   "language": "python",
   "name": "python3"
  },
  "language_info": {
   "codemirror_mode": {
    "name": "ipython",
    "version": 3
   },
   "file_extension": ".py",
   "mimetype": "text/x-python",
   "name": "python",
   "nbconvert_exporter": "python",
   "pygments_lexer": "ipython3",
   "version": "3.11.4"
  }
 },
 "nbformat": 4,
 "nbformat_minor": 5
}
