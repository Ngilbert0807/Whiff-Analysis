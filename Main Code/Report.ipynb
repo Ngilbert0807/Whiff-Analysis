{
 "cells": [
  {
   "cell_type": "code",
   "execution_count": 1,
   "id": "a00fe2fe",
   "metadata": {},
   "outputs": [],
   "source": [
    "import pandas as pd\n",
    "import matplotlib.pyplot as plt\n",
    "import seaborn as sns\n",
    "import psycopg2"
   ]
  },
  {
   "cell_type": "code",
   "execution_count": 2,
   "id": "e96fd0e8",
   "metadata": {},
   "outputs": [],
   "source": [
    "from db_password import password  # Import the password function fromm a seperte file\n",
    "pw = password()  # insert whatever your database pass word is here\n",
    "db = \"March Madness\"  # Database name\n",
    "host = \"localhost\"  # Database host\n",
    "user = \"postgres\"  # Database user\n",
    "port = \"5432\"  # Database port\n",
    "\n",
    "def connecting():\n",
    "    #Establish a connection to the PostgreSQL database.\n",
    "\n",
    "    connection = None  # Initialize connection variable\n",
    "    connection = psycopg2.connect(\n",
    "        database=db,\n",
    "        host=host,\n",
    "        user=user,\n",
    "        password=pw,\n",
    "        port=port\n",
    "    )  # Establish connection to the database\n",
    "    return connection  # Return the connection object\n",
    "\n",
    "def execute_query(connection, query):\n",
    " \n",
    "    # Execute a SQL query on the database.\n",
    "    try:\n",
    "        cursor = connection.cursor()  # Create a cursor object\n",
    "        cursor.execute(query)  # Execute the SQL query\n",
    "        connection.commit()  # Commit the transaction\n",
    "    except psycopg2.Error as e:\n",
    "        print(f\"Error executing query: {e}\")  # Print error message\n",
    "        connection.rollback()  # Rollback the transaction in case of error\n",
    "    finally:\n",
    "        cursor.close()  \n",
    "def read_query(connection, query):\n",
    "    \"\"\"\n",
    "    Execute a SQL query and fetch all results. \n",
    "    Returns:\n",
    "        result (list): List of tuples containing the query results.\n",
    "    \"\"\"\n",
    "    cursor = connection.cursor()  # Create a cursor object\n",
    "    result = None  # Initialize result variable\n",
    "    cursor.execute(query)  # Execute the SQL query\n",
    "    result = cursor.fetchall()  # Fetch all results\n",
    "    return result  # Return the query results"
   ]
  }
 ],
 "metadata": {
  "kernelspec": {
   "display_name": "base",
   "language": "python",
   "name": "python3"
  },
  "language_info": {
   "codemirror_mode": {
    "name": "ipython",
    "version": 3
   },
   "file_extension": ".py",
   "mimetype": "text/x-python",
   "name": "python",
   "nbconvert_exporter": "python",
   "pygments_lexer": "ipython3",
   "version": "3.11.4"
  }
 },
 "nbformat": 4,
 "nbformat_minor": 5
}
